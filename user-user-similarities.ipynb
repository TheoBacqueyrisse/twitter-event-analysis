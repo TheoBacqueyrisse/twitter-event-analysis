{
 "cells": [
  {
   "cell_type": "markdown",
   "metadata": {},
   "source": [
    "# Embeddings and User - User Similarities"
   ]
  },
  {
   "cell_type": "markdown",
   "metadata": {},
   "source": [
    "### Import Packages 📦"
   ]
  },
  {
   "cell_type": "code",
   "execution_count": 1,
   "metadata": {},
   "outputs": [
    {
     "name": "stdout",
     "output_type": "stream",
     "text": [
      "Requirement already satisfied: node2vec in /usr/local/python/3.10.13/lib/python3.10/site-packages (0.4.6)\n",
      "Requirement already satisfied: gensim<5.0.0,>=4.1.2 in /usr/local/python/3.10.13/lib/python3.10/site-packages (from node2vec) (4.3.2)\n",
      "Requirement already satisfied: joblib<2.0.0,>=1.1.0 in /home/codespace/.local/lib/python3.10/site-packages (from node2vec) (1.3.2)\n",
      "Requirement already satisfied: networkx<3.0,>=2.5 in /usr/local/python/3.10.13/lib/python3.10/site-packages (from node2vec) (2.8.8)\n",
      "Requirement already satisfied: numpy<2.0.0,>=1.19.5 in /home/codespace/.local/lib/python3.10/site-packages (from node2vec) (1.26.4)\n",
      "Requirement already satisfied: tqdm<5.0.0,>=4.55.1 in /usr/local/python/3.10.13/lib/python3.10/site-packages (from node2vec) (4.66.2)\n",
      "Requirement already satisfied: scipy>=1.7.0 in /home/codespace/.local/lib/python3.10/site-packages (from gensim<5.0.0,>=4.1.2->node2vec) (1.12.0)\n",
      "Requirement already satisfied: smart-open>=1.8.1 in /usr/local/python/3.10.13/lib/python3.10/site-packages (from gensim<5.0.0,>=4.1.2->node2vec) (7.0.3)\n",
      "Requirement already satisfied: wrapt in /usr/local/python/3.10.13/lib/python3.10/site-packages (from smart-open>=1.8.1->gensim<5.0.0,>=4.1.2->node2vec) (1.16.0)\n",
      "Note: you may need to restart the kernel to use updated packages.\n",
      "Requirement already satisfied: gensim in /usr/local/python/3.10.13/lib/python3.10/site-packages (4.3.2)\n",
      "Requirement already satisfied: numpy>=1.18.5 in /home/codespace/.local/lib/python3.10/site-packages (from gensim) (1.26.4)\n",
      "Requirement already satisfied: scipy>=1.7.0 in /home/codespace/.local/lib/python3.10/site-packages (from gensim) (1.12.0)\n",
      "Requirement already satisfied: smart-open>=1.8.1 in /usr/local/python/3.10.13/lib/python3.10/site-packages (from gensim) (7.0.3)\n",
      "Requirement already satisfied: wrapt in /usr/local/python/3.10.13/lib/python3.10/site-packages (from smart-open>=1.8.1->gensim) (1.16.0)\n",
      "Note: you may need to restart the kernel to use updated packages.\n"
     ]
    }
   ],
   "source": [
    "import warnings\n",
    "warnings.filterwarnings(\"ignore\")\n",
    "import pandas as pd\n",
    "import numpy as np\n",
    "import networkx as nx\n",
    "import random\n",
    "\n",
    "%pip install node2vec\n",
    "from node2vec import Node2Vec\n",
    "\n",
    "%pip install gensim\n",
    "import gensim.downloader\n",
    "from gensim.models import Word2Vec\n",
    "\n",
    "from sklearn.metrics.pairwise import cosine_similarity"
   ]
  },
  {
   "cell_type": "markdown",
   "metadata": {},
   "source": [
    "### Select the event to be analyzed, and import the graph "
   ]
  },
  {
   "cell_type": "code",
   "execution_count": 2,
   "metadata": {},
   "outputs": [],
   "source": [
    "chosen_event = 'wildfire'\n",
    "\n",
    "path = f'subgraphs_data/{chosen_event}_subgraph.graphml'\n",
    "g = nx.read_graphml(path)"
   ]
  },
  {
   "cell_type": "markdown",
   "metadata": {},
   "source": [
    "### 2.1 - Sampling N users"
   ]
  },
  {
   "cell_type": "code",
   "execution_count": 29,
   "metadata": {},
   "outputs": [],
   "source": [
    "users = []\n",
    "for node, data in g.nodes(data=True):\n",
    "    for key, value in data.items():\n",
    "        if key == 'labels':\n",
    "            if value == ':User':\n",
    "                users.append({node : data})\n",
    "\n",
    "n=100\n",
    "# Sample N/2 users with highest degree centrality\n",
    "degree_centralities = nx.degree_centrality(g)\n",
    "top_degree_users = sorted(degree_centralities, key=lambda x: degree_centralities[x], reverse=True)[0:int(n/2)]\n",
    "\n",
    "# Sample N/2 users with highest closeness centrality\n",
    "closeness_centralities = nx.closeness_centrality(g)\n",
    "top_closeness_users = sorted(closeness_centralities, key=lambda x: closeness_centralities[x], reverse=True)[0:int(n/2)]\n",
    "list_user = list(set(top_degree_users + top_closeness_users))\n",
    "\n",
    "users_sample = []\n",
    "\n",
    "for node_dict in users:\n",
    "    node_key = list(node_dict.keys())[0]  \n",
    "    if node_key in list_user:  \n",
    "        users_sample.append({node_key: node_dict[node_key]})"
   ]
  },
  {
   "cell_type": "code",
   "execution_count": 33,
   "metadata": {},
   "outputs": [],
   "source": [
    "# # first, we need access to the list of users in the graph \n",
    "# users = []\n",
    "# for node, data in g.nodes(data=True):\n",
    "#     for key, value in data.items():\n",
    "#         if key == 'labels':\n",
    "#             if value == ':User':\n",
    "#                 users.append({node : data})\n",
    "\n",
    "# # then, we select a random sample of 100 users\n",
    "# random.seed(55)\n",
    "# N = 100\n",
    "# users_sample = random.sample(users, N)"
   ]
  },
  {
   "cell_type": "code",
   "execution_count": 4,
   "metadata": {},
   "outputs": [
    {
     "data": {
      "text/plain": [
       "{'n86625': {'labels': ':User',\n",
       "  'isVerified': False,\n",
       "  'followers_count': 129943,\n",
       "  'listed_count': 742,\n",
       "  'statuses_count': 1970,\n",
       "  'favourites_count': 2,\n",
       "  'id': '302187548',\n",
       "  'screen_name': 'AB_EmergAlert',\n",
       "  'friends_count': 1,\n",
       "  'name': 'AB Emergencyalert',\n",
       "  'tweets_count': 19}}"
      ]
     },
     "execution_count": 4,
     "metadata": {},
     "output_type": "execute_result"
    }
   ],
   "source": [
    "# example of user\n",
    "users_sample[0]"
   ]
  },
  {
   "cell_type": "markdown",
   "metadata": {},
   "source": [
    "## 2.ii.a - Embeddings on Graph Structure"
   ]
  },
  {
   "cell_type": "code",
   "execution_count": 5,
   "metadata": {},
   "outputs": [],
   "source": [
    "# first, we need the associated nodes ids to the sample we definded : \n",
    "node_sample_ids = []\n",
    "for i in range(len(users_sample)):\n",
    "    for key, _ in users_sample[i].items():\n",
    "        node_sample_ids.append(key)\n",
    "\n",
    "# define the subgraph with the sample of 100 nodes\n",
    "sample_graph = g.subgraph(node_sample_ids)"
   ]
  },
  {
   "cell_type": "code",
   "execution_count": 6,
   "metadata": {},
   "outputs": [
    {
     "name": "stderr",
     "output_type": "stream",
     "text": [
      "Computing transition probabilities: 100%|██████████| 11/11 [00:00<00:00, 12077.84it/s]\n",
      "Generating walks (CPU: 1): 100%|██████████| 10/10 [00:00<00:00, 3521.96it/s]\n"
     ]
    }
   ],
   "source": [
    "# we can then build the embeddings of the sampled graph with Node2Vec\n",
    "node2vec = Node2Vec(sample_graph, dimensions=50)\n",
    "fitted_model_n2v = node2vec.fit(window=10, min_count=1) "
   ]
  },
  {
   "cell_type": "markdown",
   "metadata": {},
   "source": [
    "We can have access to the 10 most similar nodes of a node, based on cosine similarity"
   ]
  },
  {
   "cell_type": "code",
   "execution_count": 8,
   "metadata": {},
   "outputs": [
    {
     "data": {
      "text/plain": [
       "[('n85174', 0.3614647686481476),\n",
       " ('n85146', 0.25389182567596436),\n",
       " ('n85177', 0.18587689101696014),\n",
       " ('n61678', 0.16183257102966309),\n",
       " ('n87456', 0.11143843084573746),\n",
       " ('n85147', 0.04336925223469734),\n",
       " ('n67357', 0.03535682335495949),\n",
       " ('n86646', -0.03276541829109192),\n",
       " ('n85214', -0.26173949241638184),\n",
       " ('n86626', -0.3077954351902008)]"
      ]
     },
     "execution_count": 8,
     "metadata": {},
     "output_type": "execute_result"
    }
   ],
   "source": [
    "fitted_model_n2v.wv.most_similar('n86625')"
   ]
  },
  {
   "cell_type": "markdown",
   "metadata": {},
   "source": [
    "Or we can build a cosine similarity matrix :"
   ]
  },
  {
   "cell_type": "code",
   "execution_count": 9,
   "metadata": {},
   "outputs": [],
   "source": [
    "# get the embeddings for every node\n",
    "node_embeddings_n2v = {node: fitted_model_n2v.wv[node] for node in sample_graph.nodes()}\n",
    "\n",
    "# list element is easier to handle\n",
    "list_of_embeddings_n2v = []\n",
    "for key, value in node_embeddings_n2v.items():\n",
    "    list_of_embeddings_n2v.append({key : value})"
   ]
  },
  {
   "cell_type": "code",
   "execution_count": 10,
   "metadata": {},
   "outputs": [],
   "source": [
    "# build the cosine similarity matrix\n",
    "cos_sim_n2v = [[0 for _ in range(100)] for _ in range(100)]\n",
    "\n",
    "for i, emb_i_dict in enumerate(list_of_embeddings_n2v):\n",
    "    for j, emb_j_dict in enumerate(list_of_embeddings_n2v):\n",
    "        emb_i = next(iter(emb_i_dict.values())) \n",
    "        emb_j = next(iter(emb_j_dict.values()))\n",
    "\n",
    "        cosine_sim = cosine_similarity([emb_i], [emb_j])[0][0]\n",
    "        cos_sim_n2v[i][j] = cosine_sim"
   ]
  },
  {
   "cell_type": "code",
   "execution_count": 11,
   "metadata": {},
   "outputs": [
    {
     "name": "stdout",
     "output_type": "stream",
     "text": [
      "The 10 more similar pairs of users are :\n"
     ]
    },
    {
     "data": {
      "text/plain": [
       "[(4, 8, 0.5346932411193848),\n",
       " (1, 8, 0.36146482825279236),\n",
       " (5, 8, 0.3480015993118286),\n",
       " (3, 8, 0.34607675671577454),\n",
       " (1, 5, 0.25389179587364197),\n",
       " (0, 5, 0.23847448825836182),\n",
       " (3, 5, 0.23539096117019653),\n",
       " (6, 9, 0.21279771625995636),\n",
       " (6, 8, 0.18825682997703552),\n",
       " (1, 4, 0.18587687611579895)]"
      ]
     },
     "execution_count": 11,
     "metadata": {},
     "output_type": "execute_result"
    }
   ],
   "source": [
    "# from this, we can get the more similar users in our sample graph :\n",
    "arr_cos_sim_n2v = np.array(cos_sim_n2v)\n",
    "np.fill_diagonal(arr_cos_sim_n2v, -np.inf) # we replace the 1 elements of the diagonal by -inf\n",
    "\n",
    "# 10 most similar nodes\n",
    "v = []\n",
    "\n",
    "nb_users_to_print = 10\n",
    "for _ in range(nb_users_to_print):\n",
    "    max_index = np.argmax(arr_cos_sim_n2v)\n",
    "    max_sim = np.max(arr_cos_sim_n2v)\n",
    "\n",
    "    max_row_index, max_col_index = np.unravel_index(max_index, np.array(arr_cos_sim_n2v).shape)\n",
    "\n",
    "    arr_cos_sim_n2v[max_row_index][max_col_index] = -np.inf\n",
    "    arr_cos_sim_n2v[max_col_index][max_row_index] = -np.inf\n",
    "\n",
    "    v.append((max_row_index, max_col_index, max_sim))\n",
    "\n",
    "print(f\"The {nb_users_to_print} more similar pairs of users are :\")\n",
    "v"
   ]
  },
  {
   "cell_type": "markdown",
   "metadata": {},
   "source": [
    "## 2.ii.b - Embeddings on Post Content"
   ]
  },
  {
   "cell_type": "code",
   "execution_count": 12,
   "metadata": {},
   "outputs": [
    {
     "data": {
      "text/plain": [
       "{'n37162': {'labels': ':Tweet',\n",
       "  'is_quote_status': False,\n",
       "  'possibly_sensitive': True,\n",
       "  'retweet_count': 37,\n",
       "  'favorite_count': 214,\n",
       "  'id_str': '1131945414289006592',\n",
       "  'isTruncated': False,\n",
       "  'annotation_postPriority': 'High',\n",
       "  'created_at': '2019-05-24T00:00Z',\n",
       "  'id': '1131945414289006592',\n",
       "  'annotation_annotated': True,\n",
       "  'annotation_num_judgements': 3,\n",
       "  'text': \"I support High Level Mayor Crystal McAteer and her call for emergency relief funding in the form of debit cards for residents displaced by the fire. I'll be reaching out to Minister Madu today and call on him to bring this program in immediately#ableg\",\n",
       "  'topic': 'TRECIS-CTIT-H-029'}}"
      ]
     },
     "execution_count": 12,
     "metadata": {},
     "output_type": "execute_result"
    }
   ],
   "source": [
    "# we already have our sampled graph and the users, we now need the tweets\n",
    "tweets = []\n",
    "for node, data in g.nodes(data=True):\n",
    "    for key, value in data.items():\n",
    "        if key == 'labels':\n",
    "            if value == ':Tweet':\n",
    "                tweets.append({node : data})\n",
    "\n",
    "# exemple of tweet\n",
    "tweets[0]"
   ]
  },
  {
   "cell_type": "code",
   "execution_count": 13,
   "metadata": {},
   "outputs": [
    {
     "data": {
      "text/plain": [
       "[{'user': 'n86625',\n",
       "  'tweets': ['Wildfire Alert Updated May30 1141AM Take necessary precautions. Lesser Slave River... https://t.co/L8ht6OCtPQ #ABfire #ABemerg',\n",
       "   'Wildfire Alert Ended May21 942AM Yellowhead County https://t.co/L8ht6OCtPQ #ABfire #ABemerg',\n",
       "   'Wildfire Alert Updated May29 1256PM Take necessary precautions. Mackenzie #23 https://t.co/L8ht6OCtPQ #ABfire #ABemerg',\n",
       "   'Wildfire Alert May30 1219PM Take necessary precautions. Lesser Slave River #124 https://t.co/L8ht6OCtPQ #ABfire #ABemerg',\n",
       "   'Wildfire Alert Updated May31 814AM Take necessary precautions. Peerless Lake First... https://t.co/L8ht6OCtPQ #ABfire #ABemerg',\n",
       "   'Wildfire Alert Updated May02 337AM Take necessary precautions. Regional Municipality of... https://t.co/B6uO3E9qa7 #ABfire #ABemerg',\n",
       "   'Wildfire Alert Updated May03 301PM Take necessary precautions. Regional Municipality of... https://t.co/B6uO3E9qa7 #ABfire #ABemerg',\n",
       "   'Wildfire Alert Updated May03 234PM Take necessary precautions. Regional Municipality of... https://t.co/B6uO3E9qa7 #ABfire #ABemerg',\n",
       "   'Wildfire Alert May29 841PM Take necessary precautions. Northern Lights #22 https://t.co/L8ht6OCtPQ #ABfire #ABemerg',\n",
       "   'Wildfire Alert Updated May20 1027AM Take necessary precautions. Mackenzie #23 https://t.co/L8ht6OCtPQ #ABfire #ABemerg',\n",
       "   'Wildfire Alert Updated May24 937AM Take necessary precautions. Mackenzie #23 https://t.co/L8ht6OCtPQ #ABfire #ABemerg',\n",
       "   'Wildfire Alert Jun01 205PM Take necessary precautions. Mackenzie #23 https://t.co/L8ht6OCtPQ #ABfire #ABemerg',\n",
       "   'Wildfire Alert May20 817PM Take necessary precautions. Bushe River Reserve #207 https://t.co/L8ht6OCtPQ #ABfire #ABemerg',\n",
       "   'Wildfire Alert Updated May03 424PM Take necessary precautions. Regional Municipality of... https://t.co/B6uO3E9qa7 #ABfire #ABemerg',\n",
       "   'Wildfire Alert May19 105PM Take necessary precautions. Mackenzie #23 https://t.co/L8ht6OCtPQ #ABfire #ABemerg',\n",
       "   'Wildfire Alert May30 1016AM Take necessary precautions. Slave Lake https://t.co/L8ht6OCtPQ #ABfire #ABemerg',\n",
       "   'Wildfire Alert May30 915AM Take necessary precautions. Lesser Slave River #124 https://t.co/L8ht6OCtPQ #ABfire #ABemerg',\n",
       "   'Wildfire Alert Updated May20 607PM Take necessary precautions. Mackenzie #23 https://t.co/L8ht6OCtPQ #ABfire #ABemerg']},\n",
       " {'user': 'n85147',\n",
       "  'tweets': [\"Fire Chief Allen: urges residents against using OHV and ATVs for everyone's safety #ymm #ymmfire\",\n",
       "   'Mandatory Evacuation Notice - May 3 - 3:10 p.m.\\\\n#ymm #rmwb #ymmfire #fortmcmurray https://t.co/clHUrGIU6N',\n",
       "   'Mandatory Evacuation Notice - May 3 - 2:05 p.m #ymm #ymmfire #rmwb https://t.co/5BoTkMHbfz',\n",
       "   \"The Landfill is still closed. We're only picking up black bins until further notice. #ymm #rmwb #ymmfire\",\n",
       "   'For information on fire developments, please call 780-762-3636. #YMM #YMMFIre',\n",
       "   'Thank you to everyone who has offered to volunteer, please register here: https://t.co/VaOLbtMvRR #ymm https://t.co/I1NKd8yPQG',\n",
       "   'Mandatory Evacuation Notice - May 3, 3:25 p.m.\\\\n#ymm #rmwb #ymmfire #fortmcmurray https://t.co/YN2IGxVb3r',\n",
       "   'Regular transit service may be delayed as a result of the forest fire; we apologize for any inconvenience #ymm #ymmfire #rmwb',\n",
       "   'A special air quality statement has been issued for the #FortMcMurray area: https://t.co/DT9fYkzKxO #ymm #ymmfire #ABfire #rmwb',\n",
       "   'Hwy 63 southbound is closed at Mackenzie Blvd. #ymm #rmwb #ymmfire #fortmcmurray',\n",
       "   'North fire is almost completely out, says Fire Chief Darby Allen. The west fire is our priority. #ymm #ymmfire #rmwb',\n",
       "   'Updates on the wildfire situation - a media brief will be streamed live online at 11 a.m. today. Details coming soon. #ymm #ymmfire',\n",
       "   '.@AlbertaWildfire says Forestry firefighters focusing efforts on the north fire today. Winds will make the fire challenging. #ymm #ymmfire',\n",
       "   'We would like to advise that donations are not currently being accepted. Thank you everyone for your generosity! #ymm #ymmfire #rmwb',\n",
       "   'Reminder that evacuees are welcome at @MacDonaldIsland. The reception centre is at the entrance by the golf course #ymm #ymmfire #rmwb',\n",
       "   'Wood Buffalo Forest Fire Update: May 3, 2:30 p.m https://t.co/76BhvSY5PX #ymm #ymmfire #rmwb',\n",
       "   'Fire Chief Allen: there have been no reports of any residents or firefighters getting hurt by the fires #ymm #ymmfire #rmwb',\n",
       "   'May 3, 5 p.m. Evacuation Map #ymm #ymmfire #fortmcmurray https://t.co/A0YgwJppCn',\n",
       "   'This area of Thickwood is under voluntary evac order. Residents should be prepared for mandatory evac #ymm #ymmfire https://t.co/rdtyexnTYz',\n",
       "   \"Here's a map of the areas affected by the forest fires. #ymm #rmwb https://t.co/WXp54yDtTr\",\n",
       "   'The landfill will remain closed until fire-related threats are no longer present #ymm #rmwb #ymmfire',\n",
       "   \"Due to the forest fires, today's Sustainable Development Committee meeting has been cancelled. #ymm #rmwb #ymmfire\",\n",
       "   'If you have a pet, please bring a cage, food and blanket with you when you evacuate #ymm #ymmfire #fortmcmurray',\n",
       "   '\"We\\'re in for a rough day,\" says Fire Chief Darby Allen. Reminds everyone that we\\'re in a serious situation. #ymmfire #ymm',\n",
       "   'News Release: Wood Buffalo Forest Fire Update ? May 2, 3 a.m https://t.co/iqLMIGXh7k #ymm #ymmfire #rmwb',\n",
       "   '.@MayorMelissa providing an update on #ymmfire. Says the fire has grown to about 2,600 hectares vs 1,285 yest #ymm https://t.co/xClJU51RTr',\n",
       "   \"Fire Chief Allen: we're working on these fires 24/7, giving everything we can #ymm #ymmfire #rmwb\",\n",
       "   '@CrazyCdn01 hi there, Highway 63 is open however there may be traffic delays. #ymm #ymmfire',\n",
       "   'Wildfire Update: May 3, 2:25 p.m. #ymm #ymmfire #rmwb #fortmcmurray https://t.co/wKnid0LaaW',\n",
       "   'Transit Services is temporarily halting bus service in Abasand and Beacon Hill, until further notice. #YMM #YMMFire',\n",
       "   '.@AlbertaWildfire says a five hectare fire has cross the Athabasca River. 10 firefighters are en route #ymmfire #ymm https://t.co/Hqx6KxlGE2',\n",
       "   'Highway 63 is OPEN.\\\\nPlease expect delays as a result of traffic congestion. #YMMFire #YMM',\n",
       "   'Media briefing about the Wood Buffalo forest fires will start at 11 a.m. live on @periscopeco #ymm #ymmfire #rmwb https://t.co/T56Zdg1deP',\n",
       "   'Fire Chief Allen: please be mindful that this situation can change at short notice. We will keep residents informed #ymm #ymmfire #rmwb',\n",
       "   'Fire conditions extreme &amp; humidity levels will lower says Fire Chief Darby Allen. Same forecast 4 tmrw #ymmfire #ymm https://t.co/uCRajFQEtO',\n",
       "   'Mandatory Evacuation Notice - May 3, 3:35 p.m.\\\\n#ymm #ymmfire #rmwb #fortmcmurray https://t.co/ClYIz0D50L',\n",
       "   '@ATeamMrA Good morning, the landfill remains closed until further notice as a precaution to minimize risk to staff &amp; customers #ymm #ymmfire',\n",
       "   'Residents are reminded not to stop on roadways to view fire activity. Please drive safely. #YMM #YMMFire',\n",
       "   'Reminder: a special air quality statement is in effect for areas in the #rmwb https://t.co/4K2uFBuxBu #ymm #ymmfire',\n",
       "   'Fire Chief Allen reminds residents we have an evacuation centre open 24/7 with a place to sleep, food at @MacDonaldIsland #ymm #ymmfire',\n",
       "   'Evacuation Notice - May 3, 2016 1:55 p.m. \\\\n#ymm #rmwb #ymmfire https://t.co/reizMjgwQT',\n",
       "   'As crews work to control fire events, residents are advised not to operate ATV and OHV to give crews room to work &amp; keep residents safe #ymm',\n",
       "   '@Mr_Killerwhale Gregoire is under mandatory evacuation. Residents should go to the Anzac Rec Centre #YMM #YMMFire',\n",
       "   '.@MayorMelissa thanks the folks on the ground and our media partners. #ymm #ymmfire',\n",
       "   '.@AlbertaWildfire says the Boreal forest is a fire dependent ecosystem. Tree species have adapted to fire #ymm #ymmfire #rmwb',\n",
       "   \"Watch @MayorMelissa, Emergency Services and AAF's live update to media on forest fires north and west of #ymm @ 11 a.m. #ymmfire\",\n",
       "   'Transit service is up and running on schedule #ymm #ymmfire #rmwb #fortmcmurray',\n",
       "   'Evacuation Update: May 3, 3:55 p.m. #ymm #rmwb #ymmfire #fortmcmurray https://t.co/cX1yHZVeLz',\n",
       "   \"Residents may see air traffic activity along Hwy 63 from Beacon Hill south. Please don't stop to look. Leave space for safety. #ymm #ymmfire\",\n",
       "   'Residents are asked to ONLY put out black bin waste for scheduled garbage pick-up. Store blue bin waste until further notice. #YMM #YMMFire',\n",
       "   \".@AlbertaWildfire: we'll start seeing full crown fire (trees fully engulfed) around noon today #ymm #ymmfire #rmwb\"]}]"
      ]
     },
     "execution_count": 13,
     "metadata": {},
     "output_type": "execute_result"
    }
   ],
   "source": [
    "# build a list containing dictionnaries with the user_node_id and every tweet made by this user\n",
    "users_posts = []\n",
    "\n",
    "for u in users_sample:\n",
    "    user_node_id = [key for key, _ in u.items()][0]\n",
    "    tweets_by_user = []\n",
    "    \n",
    "    for t in tweets:\n",
    "        tweet_node_id = [key for key, _ in t.items()][0]\n",
    "        text_tweet = [value for _, value in t.items()][0]['text']\n",
    "\n",
    "        if tweet_node_id in g[user_node_id]:\n",
    "            tweets_by_user.append(text_tweet)\n",
    "\n",
    "    users_posts.append({'user':user_node_id,\n",
    "                        'tweets':tweets_by_user})\n",
    "    \n",
    "# exemple of users posts :\n",
    "users_posts[:2]"
   ]
  },
  {
   "cell_type": "code",
   "execution_count": 14,
   "metadata": {},
   "outputs": [],
   "source": [
    "# let us build the empbeddings of our tweets, using a pretrained Word2Vec model on twitter data, using embeddings of length 50 to match the graph structure embeddings\n",
    "w2v = gensim.downloader.load('glove-twitter-50')"
   ]
  },
  {
   "cell_type": "code",
   "execution_count": 15,
   "metadata": {},
   "outputs": [],
   "source": [
    "# we define a function that allows us to tokenize a tweet/sentence, and we take the average of each embedding\n",
    "def sentence_embedding(sentence):\n",
    "    tokens = sentence.split()\n",
    "    embeddings = [w2v[token] for token in tokens if token in w2v]\n",
    "    \n",
    "    if embeddings:\n",
    "        avg_embedding = np.mean(embeddings, axis=0)\n",
    "    else:\n",
    "        avg_embedding = np.zeros(w2v.vector_size)\n",
    "\n",
    "    return avg_embedding"
   ]
  },
  {
   "cell_type": "code",
   "execution_count": 19,
   "metadata": {},
   "outputs": [],
   "source": [
    "# we then compute and add the embedded tweets to the users_posts list, by adding a key to each dictionnary in the list\n",
    "for i in users_posts:\n",
    "    tweets = i['tweets']\n",
    "    embedded_tweets = []\n",
    "    for j in i['tweets']:\n",
    "        emb_tweet = sentence_embedding(j)\n",
    "        embedded_tweets.append(emb_tweet)\n",
    "    avg_emb_tweet = np.mean(embedded_tweets, axis=0)\n",
    "    i['embedded_tweets'] = avg_emb_tweet"
   ]
  },
  {
   "cell_type": "code",
   "execution_count": 20,
   "metadata": {},
   "outputs": [
    {
     "data": {
      "text/plain": [
       "{'user': 'n86625',\n",
       " 'tweets': ['Wildfire Alert Updated May30 1141AM Take necessary precautions. Lesser Slave River... https://t.co/L8ht6OCtPQ #ABfire #ABemerg',\n",
       "  'Wildfire Alert Ended May21 942AM Yellowhead County https://t.co/L8ht6OCtPQ #ABfire #ABemerg',\n",
       "  'Wildfire Alert Updated May29 1256PM Take necessary precautions. Mackenzie #23 https://t.co/L8ht6OCtPQ #ABfire #ABemerg',\n",
       "  'Wildfire Alert May30 1219PM Take necessary precautions. Lesser Slave River #124 https://t.co/L8ht6OCtPQ #ABfire #ABemerg',\n",
       "  'Wildfire Alert Updated May31 814AM Take necessary precautions. Peerless Lake First... https://t.co/L8ht6OCtPQ #ABfire #ABemerg',\n",
       "  'Wildfire Alert Updated May02 337AM Take necessary precautions. Regional Municipality of... https://t.co/B6uO3E9qa7 #ABfire #ABemerg',\n",
       "  'Wildfire Alert Updated May03 301PM Take necessary precautions. Regional Municipality of... https://t.co/B6uO3E9qa7 #ABfire #ABemerg',\n",
       "  'Wildfire Alert Updated May03 234PM Take necessary precautions. Regional Municipality of... https://t.co/B6uO3E9qa7 #ABfire #ABemerg',\n",
       "  'Wildfire Alert May29 841PM Take necessary precautions. Northern Lights #22 https://t.co/L8ht6OCtPQ #ABfire #ABemerg',\n",
       "  'Wildfire Alert Updated May20 1027AM Take necessary precautions. Mackenzie #23 https://t.co/L8ht6OCtPQ #ABfire #ABemerg',\n",
       "  'Wildfire Alert Updated May24 937AM Take necessary precautions. Mackenzie #23 https://t.co/L8ht6OCtPQ #ABfire #ABemerg',\n",
       "  'Wildfire Alert Jun01 205PM Take necessary precautions. Mackenzie #23 https://t.co/L8ht6OCtPQ #ABfire #ABemerg',\n",
       "  'Wildfire Alert May20 817PM Take necessary precautions. Bushe River Reserve #207 https://t.co/L8ht6OCtPQ #ABfire #ABemerg',\n",
       "  'Wildfire Alert Updated May03 424PM Take necessary precautions. Regional Municipality of... https://t.co/B6uO3E9qa7 #ABfire #ABemerg',\n",
       "  'Wildfire Alert May19 105PM Take necessary precautions. Mackenzie #23 https://t.co/L8ht6OCtPQ #ABfire #ABemerg',\n",
       "  'Wildfire Alert May30 1016AM Take necessary precautions. Slave Lake https://t.co/L8ht6OCtPQ #ABfire #ABemerg',\n",
       "  'Wildfire Alert May30 915AM Take necessary precautions. Lesser Slave River #124 https://t.co/L8ht6OCtPQ #ABfire #ABemerg',\n",
       "  'Wildfire Alert Updated May20 607PM Take necessary precautions. Mackenzie #23 https://t.co/L8ht6OCtPQ #ABfire #ABemerg'],\n",
       " 'embedded_tweets': array([ 0.37399057, -0.03553   , -0.67104669,  0.22596778,  0.76220442,\n",
       "         0.72813832,  0.47804942, -0.50225553,  0.10180167,  0.04908372,\n",
       "        -0.12321222, -0.12135167, -3.0897501 , -0.36686001, -0.36518833,\n",
       "         1.02151106,  0.25735166, -0.03145283, -0.08288161, -0.55932835,\n",
       "        -0.33117889,  0.38437001,  0.05606789,  0.43595556,  0.06566533,\n",
       "         1.09971109,  0.24089945,  0.84867776,  0.41803944,  0.00470626,\n",
       "         0.98033332, -0.04647139,  0.11216222, -0.42506611,  0.4526061 ,\n",
       "         0.18377   , -0.83682499,  0.05236567, -0.01570611, -0.44373777,\n",
       "         0.97731116,  0.55436999,  0.98552773, -0.76547225, -0.00785211,\n",
       "        -0.06769022, -0.30131556,  0.37073223, -0.8226111 , -0.11124611])}"
      ]
     },
     "execution_count": 20,
     "metadata": {},
     "output_type": "execute_result"
    }
   ],
   "source": [
    "# exemple of new user post :\n",
    "users_posts[0]"
   ]
  },
  {
   "cell_type": "code",
   "execution_count": 21,
   "metadata": {},
   "outputs": [],
   "source": [
    "# we can now compute the cosine similarity matrix like with our graph structure embeddings\n",
    "cos_sim_w2v = [[0 for _ in range(100)] for _ in range(100)]\n",
    "\n",
    "for i in range(len(users_posts)):\n",
    "    for j in range(len(users_posts)):\n",
    "        if i == j:\n",
    "            cos_sim_w2v[i][j] = 1\n",
    "        else:\n",
    "            emb_i = users_posts[i]['embedded_tweets'].reshape(1, -1)\n",
    "            emb_j = users_posts[j]['embedded_tweets'].reshape(1, -1)\n",
    "            cos_sim_w2v[i][j] = cosine_similarity(emb_i, emb_j)[0][0]"
   ]
  },
  {
   "cell_type": "code",
   "execution_count": 25,
   "metadata": {},
   "outputs": [
    {
     "name": "stdout",
     "output_type": "stream",
     "text": [
      "The 10 more similar pairs of users are :\n"
     ]
    },
    {
     "data": {
      "text/plain": [
       "[(4, 5, 0.9977604065347774),\n",
       " (3, 8, 0.9971410632133484),\n",
       " (2, 7, 0.9968248605728149),\n",
       " (3, 9, 0.9965514943425788),\n",
       " (5, 9, 0.9964904856647377),\n",
       " (5, 8, 0.9963920036732998),\n",
       " (3, 5, 0.995724766739027),\n",
       " (2, 4, 0.9955658316612244),\n",
       " (2, 5, 0.9952108696080185),\n",
       " (4, 9, 0.9949992779441142)]"
      ]
     },
     "execution_count": 25,
     "metadata": {},
     "output_type": "execute_result"
    }
   ],
   "source": [
    "# finally, we can print the most similar users based on this matrix\n",
    "arr_cos_sim_w2v = np.array(cos_sim_w2v)\n",
    "np.fill_diagonal(arr_cos_sim_w2v, -np.inf) # replace the diagonal full of 1s by -inf \n",
    "\n",
    "v = []\n",
    "\n",
    "nb_users_to_print = 10\n",
    "for _ in range(nb_users_to_print):\n",
    "    max_index = np.argmax(arr_cos_sim_w2v)\n",
    "    max_sim = np.max(arr_cos_sim_w2v)\n",
    "\n",
    "    max_row_index, max_col_index = np.unravel_index(max_index, np.array(arr_cos_sim_w2v).shape)\n",
    "\n",
    "    arr_cos_sim_w2v[max_row_index][max_col_index] = -np.inf\n",
    "    arr_cos_sim_w2v[max_col_index][max_row_index] = -np.inf\n",
    "    \n",
    "    v.append((max_row_index, max_col_index, max_sim))\n",
    "\n",
    "print(f\"The {nb_users_to_print} more similar pairs of users are :\")\n",
    "v"
   ]
  },
  {
   "cell_type": "code",
   "execution_count": 26,
   "metadata": {},
   "outputs": [
    {
     "name": "stdout",
     "output_type": "stream",
     "text": [
      "['North fire is about 15 kms from any residential areas -  #ymm #ymmfire #rmwb', 'State of Emergency declared.  Mandatory evacuation now in effect for Gregoire, Prairie Creek. #YMM #YMMFIRE', 'Allen says extremely dry spring has led to four fires in five days #ymm #rmwb #ymmfire', \"Allen confirms that #RMWB is saying no ATVs or OHV's in wooded areas. Supremely dangerous - #ymm #ymmfire #rmwb\", 'No further updates with respect to the fire or the risk level. The RMWB will hold a press conference later this evening. #ymm #ymmfire #RMWB', 'Spot fire 100 yards from Beacon Hill according to RCMP #ymm #ymmfire', 'Bernie Schmidt with Forestry says #ymmfire is 500-700 hectares in size. Hard to tell with smoke. Winds forecast out of SE #ymm #rmwb', 'Allen says #RMWB is expecting worst of the fire to occur around 3 p.m. Hopes to have further updates around 5 p.m. #ymm #rmwb #ymmfire', 'Schmitte says fire ran mostly west last night and hit Athabasca River where it jumped across - #ymm #ymmfire #rmwb', 'Schmitte says conditions today if realized as predicted will be worse than yesterday - #ymm #ymmfire #rmwb', 'Allen says Diamondstone Ridge fire is \"on hold\"  25 members fighting the fire near Taiga Nova - #ymm #rmwb #ymmfire', 'No official word yet on possible evacuation orders but with fire approaching Abasand prepare your emergency kit just in case #ymm #ymmfire', 'Allen says primary goal is to put the fire out, keep people safe - #ymm #rmwb #ymmfire', 'Students from Father Beauregard School and Good Shepherd School, to Father Turcotte School #ymm #ymmfire', 'Warning the fire may be beyond resources. If you live in Grayling Terrace, Beacon Hill or Abasand evacuate now #ymm #ymmfire', \"AUDIO: Here's the #RMWB's press conference from this morning on the #ymmfire in full - https://t.co/OXTcEmGP3P #ymm\", \"Head of fire is laying low (area closest to 63), ground fire, hasn't moved into the top of trees. #ymm #rmwb #ymmfire\", 'UPDATED: Forest fire has shifted away from homes. #ymm #ymmfire https://t.co/8L8RuILkXO', 'Fire has reached Beacon Hill. Mandatory evacuation Beacon Hill, Abasand, Grayling Terrace #ymmfire', 'Fire conditions today are extreme, expects it to be able to go more ferociously and quicker than days previous. #ymm #rmwb #ymmfire', 'Crews looking at skimming off of Gregoire Lake to load heavy duty air tankers #ymm #rmwb #ymmfire', 'Ready to go at #RMWB press conference on #ymmfire listen live at @Country933 &amp; @Rock979 - #ymm https://t.co/oHPuifSO6z', 'All transit buses have stopped in the region except for those running shuttles #ymm #ymmfire', '100 firefighters prepared to attack #ymmfire today,  7 choppers assigned,  heavy chopper on order, 2 air tanker groups #rmwb #ymm', 'Allen says they had reports of some displaced people sleeping in their cars, reminds folks to use centre at MacIsland - #ymm #rmwb #ymmfire', '#RMWB only picking up black bins as Landfill is closed due to west fire - #ymm #rmwb #ymmfire', 'Technical updates from Regional Fire Chief Darby Allen -  #ymm #rmwb #ymmfire', 'Allen is more encouraged today that #ymmfire will not hit town, but at the slightest sign that changes evacuations will occur #ymm #rmwb', 'Allen says no reports of injury to firefighters or members of the public - #ymm #rmwb #ymmfire', 'Conference over, another one this afternoon. #ymm #rmwb #ymmfire', 'Now Bernie Schmitte Wildfire Manager AB Agriculture &amp;  Forestry. Starts by thanking #RMWB - #ymm #ymmfire', 'North fire near Taiga Nova \"very much under control\"  says Blake #ymm #rmwb #ymmfire', 'Fire creeping there will be full tree candling, inversion expected to break around noon willl bring full crown fire - #ymm #rmwb #ymmfire', 'All FMPSD schools open Tuesday - https://t.co/2YwdhuZUwI #ymm #ymmfire #RMWB', 'Fire doubled in size from 1,200 hectares to 2,600 hectares - #ymm #rmwb #ymmfire', 'Allen clarifies and says North fire is largely extinguished -  #ymm #rmwb #ymmfire', 'Wildfire stays put overnight - https://t.co/sIJvZVljjf #ymmfire #ymm #RMWB https://t.co/16ooKGCaUy', 'Allen says tanker has been laying retardant on gap between fire and HWY 63 since 9am. #ymmfire #ymm #rmwb', '28 men currently fighting #ymmfire, 100 total on way from across AB - #ymm #rmwb', \".@RMWoodBuffalo In response to the province's fire ban issued earlier today, Regional Emergency Services extended the ban to Fort McMurray's urban service area. #ymm #rmwb https://t.co/vh8F0Y07KE\", 'RT @RMWoodBuffalo: Mandatory Evacuation Notice - May 3 - 2:05 p.m #ymm #ymmfire #rmwb https://t.co/5BoTkMHbfz', 'Gregoire, Thickwood, Wood Buffalo mandatory evacuation. Gregoire go to Anzac. Everyone else go to Noralta Lodge #ymm #ymmfire', \"Allen says we're in for a rough day even though skies are clear, fire will roar back - #ymm #rmwb #ymmfire\", \"Mayor Blake up first we're live on @Country933 &amp;  @Rock979 #ymm #rmwb #ymmfire\", '128 total firefighters expected to battle blaze near Gregoire #ymm #rmwb #ymmfire', 'Press conference is done. #RMWB will continue to update through the day, may hold another conference later today - #ymm #ymmfire', '80 firefighters on the fire 70 working on East side closest to #ymm -  says 5 hectare spot fire has crossed Athabasca River. #ymmfire', 'Official word: everyone get ready to leave regardless of where you live. Have a bag packed and ready to go #ymm', 'The fire has crossed the highway SB HWY63. If you are on the road you are advised to go NORTH if possible #ymm https://t.co/EzGCRoD5Il', 'AUDIO: Regional Fire Chief Darby Allen provides an update on the current status of the fire - https://t.co/2xWX120T9k #ymm #ymmfire #rmwb', \"Allen says they're hoping for winds coming in from the North East, worst direction would be easterly winds - #ymm #ymmfire #rmwb\", 'Fire Chief Darby Allen: \"We\\'re in better shape this morning than I thought we would be.\" - Fire hasn\\'t moved much overnight #ymm #ymmfire', 'Allen says people wherever they live in #ymm should get their kits ready, just as a precaution. Long ways off however  - #ymmfire #rmwb', 'Go north if you?re north of Gregoire. The fire has jumped the highway #ymm #ymmfire', 'ROUNDUP:  Wildfire just 1.2 km?s from highway; Mayor impressed with community effort - https://t.co/RWqpieVNLG #ymm #ymmfire #rmwb', 'Spot fire has become priority, weather challenges will make efforts today difficult. Inversion holding smoke down. #ymm #rmwb #ymmfire', 'Mayor Melissa Blake speaking at the Press Conference regarding #ymmfire listen live on @Rock979 &amp; @Country933 - #ymm https://t.co/be94Dg6OjV', 'Firefighters typically working a 16 hour day - #ymm #rmwb #ymmfire', 'Schmitte says Hangingstone River acts as a natural barrier between fire and #ymm but conditions today could challenge it #rmwb #ymmfire', 'RMWB held a press conference on the conditions of the wildfires #ymmfire #ymm #RMWB https://t.co/I67bXlnWVS', 'Residents of Prairie Creek can return home, Centennial Trailer Park still under mandatory evacuation. #ymm #ymmfire https://t.co/24JBchtIBz', \"#RMWB to hold another press conference at 11 a.m. regarding #ymmfire.\\\\n\\\\nWe'll carry it live on @Country933 &amp; @Rock979 \\\\n\\\\n#ymm\"]\n",
      "\n",
      "['Media release - Total fire bans until further notice - http://t.co/m2Tt0lWYZr #NSWRFS #nswfires', 'Linksview Rd (Springwood): An Air crane has been deployed to assist crews. #nswfires #NSWRFS', 'Fire near Bells Line Rd has burnt approx 24,000 hectares. 140km of fire edge. #NSWRFS #nswfires http://t.co/JUg48CeoCA', 'Emergency Warning - Hank St Fire (Heatherbrae) http://t.co/F1RjML8pjP #NSWRFS #nswfires', 'Total Fire Bans will be in place in a number of areas tomorrow including Greater Sydney, the Greater Hunter, and the Illawarra/Shoalhaven.', 'Hall Rd: An Emergency Alert Telephone Message has been sent to people in the Wilton Area #NSWRFS #nswfires', 'If you are having trouble with RFS website check http://t.co/YrrG7UYSY0 or http://t.co/9K9mojAnbq #NSWRFS #nswfires', 'Hall Road Fire: An evacuation centre has been set up in Picton at the Brethren Church, Wonga Rd Picton. #nswfires #NSWRFS', '193 homes confirmed destroyed, 109 damaged in Springwood/Winmalee area. http://t.co/S2vroMIySc #NSWRFS #nswfires', 'Infrared image from #Lithgow fire - fire is spotting ahead, very intense activity. #NSWRFS #nswfires http://t.co/NTFrM4tC00', 'State Mine Fire: Fire has been downgraded to Watch &amp; Act #NSWRFS #nswfires', 'Total fire bans are being declared in greater Sydney, Greater Hunter, Illawarra and Central ranges until further notice due to fire activity', 'Emergency Warning - Gateshead fire (Lake Macquarie) http://t.co/ODCMq9yEUD Evacs centres now open #NSWRFS #nswfires', '#Lithgow Fire: Major Fire Update http://t.co/KnaG275VXf Fire is impacting Morts Estate, Clarence and Dargan. #NSWRFS #nswfires', 'Hall Road Fire: (Wingecarribee/Wollondilly): Fire is burning to the north of Picton Road. #NSWRFS #nswfires', 'TOTAL FIRE BANS until further notice for 4 areas inc Sydney, Hunter, Illawarra/Shoalhvn &amp; Central Ranges. #NSWRFS #nswfires Pls RT', 'Maybe we will use our Fires Near Me phone app, not American TV networks for fire information. #nswrfs #nswfires http://t.co/jAXVXZKRY9', 'Thank you to the thousands of firefighters who have so bravely fought fires in difficult conds. #NSWRFS #nswfires http://t.co/stDcOP0hIA', 'Whilst conditions have eased there are still over 600 #NSWRFS volunteers working on fireground across the state tonight. #nswfires', 'Please do not call Triple Zero just to report smoke. Save it for people who need it in an emergency. #NSWRFS #nswfires', 'A picture tells 1000 words: Photos from the fire front and/or smoke plumes help us fight the fires email photos@rfs.nsw.gov.au #nswrfs...', 'State Mine: Photo from Mountain Lagoon Rd taken by Hawkesbury Gazette http://t.co/gQdixQfjr5 #nswfires #NSWRFS', 'UPDATE: The Gulguer Nature Reserve Fire is now contained, crews will remain on scene to patrol and black out. #nswfires #nswrfs', 'Emergency Warning: Linksview Rd, Springwood\\\\n http://t.co/l9TPwsbuM2 #nswfires #nswrfs', 'A busy day with great work by #nswrfs, @FireRescueNSW, Nat Parks, Forests, @nswpolice and the community. Thank you. #nswfires', '#NSWRFS &amp; #FRNSW crews on scene working to contain a fire at Parbury Park (Lake Macquarie), near the Old Pacific Highway, Swansea. #nswfires', 'What a difference a year makes #nswfires #NSWRFS http://t.co/kBED7LX9q5', 'Watch and Act - Hall Road (Southern Highlands / Wollondilly).  http://t.co/MRi7pZuDxe Picton Rd now open #nswrfs #nswfires', 'Browns Rd, Salt Ash - fire has jumped the Tilligerry Creek and #NSWRFS aircraft and crews are working to contain spot fires. #nswfires', 'Information on evacuation centres across NSW http://t.co/42sajTLRc0 #NSWRFS #nswfires', 'Fast moving grass fire near Maitland Point Bridge, NW of Uralla. Firefighters on scene. More to come. #NSWRFS #nswfires', '65 fires in NSW, 25 uncontained. Today will be challenging - hot and windy. Stay up to date at http://t.co/GuRTiatjQ6 #NSWRFS #nswfires', 'Likely to be heavy smoke across Sydney and much of the state Dont call 000 just for smoke only for unattended fires \\\\n http://t.co/rs4tkaLpwo', 'Gateshead Fire: regraded to Watch &amp; Act due to current weather conditions http://t.co/Z8OipMYxnp  #nswfires #nswrfs', '4:05pm Media briefing with Commissioner Shane Fitzsimmons being live streamed now - http://t.co/WPUMskUIUJ #nswfires #NSWRFS', 'Governor General Quentin Bryce has visited the Blue Mtns today, thanking firefighters #NSWRFS #nswfires http://t.co/gjt1bJPhHR', 'Important information about donations http://t.co/egTebLZWxk #nswfires', 'The Rural Fire Service (NSW RFS) can confirm the crash of an aircraft a short time ago, west of Ulladulla. Details - http://t.co/sHdoSf7Uez', \"2.05 Live Media briefing available at http://t.co/znwR7Ulp7E or download the 'livestream' app and follow nswrfs #nswrfs #nswfires\", '#NSWRFS crews are responding to a fire reported in the Salt Ash area (Port Stephens). #nswfires', 'NSW Governor Marie Bashir has visited #NSWRFS HQ, passing on her thanks to the thousands of firefighters #nswfires http://t.co/UGuXuGXlsy', 'Advice - Hungerford Creek Fire (Muswellbrook) http://t.co/XUmoiJXFBa The immediate threat to properties has eased. #NSWRFS #nswfires', '#NSWRFS Commissioner Shane Fitzsimmons: \"If we get through with less than 100 homes destroyed today, we have been lucky\". #nswfires', 'Watch &amp; Act - Linksview Rd, Springwood Four local schools closed tomorrow http://t.co/B19rNUNsiR #nswfires #nswrfs', 'If you find an injured native animal, call WIRES 13000WIRES or DPI for livestock.  http://t.co/JcdwqBmU4P @WIRES_NSW #nswfires', 'Info on school closure: http://t.co/Ws6vpWM3v8 #nswfires', 'Ash and smoke from Hall Rd #Balmoral fire visible in the Illawarra. #NSWRFS. #nswfires', 'Emergency Warning - Linksview Road, Springwood (Blue Mtns) http://t.co/jxgwWvxprL Firefighters are on scene. #NSWRFS #nswfires', 'Information on employment protections for NSW RFS members involved in the current fires http://t.co/qlbUPNkb5u #nswfires #NSWRFS', 'Status of evacuation centres: http://t.co/NoV1MXIOO1 #NSWRFS #nswfires', '#Lithgow Fire: The fire has jumped Bells Line of Road. #NSWRFS #nswfires']\n"
     ]
    }
   ],
   "source": [
    "# let us look at users 71 and 92 posts (post 57 is very long so bit hard to analyze)\n",
    "print(users_posts[4]['tweets'])\n",
    "print()\n",
    "print(users_posts[5]['tweets'])"
   ]
  },
  {
   "cell_type": "markdown",
   "metadata": {},
   "source": [
    "For the wildifre subgraph for example, it seems that both tweets are talking mainly about air quality specifically !"
   ]
  },
  {
   "cell_type": "markdown",
   "metadata": {},
   "source": [
    "## 2.iii - Trends in Correlations"
   ]
  },
  {
   "cell_type": "code",
   "execution_count": null,
   "metadata": {},
   "outputs": [],
   "source": []
  }
 ],
 "metadata": {
  "kernelspec": {
   "display_name": "Python 3",
   "language": "python",
   "name": "python3"
  },
  "language_info": {
   "codemirror_mode": {
    "name": "ipython",
    "version": 3
   },
   "file_extension": ".py",
   "mimetype": "text/x-python",
   "name": "python",
   "nbconvert_exporter": "python",
   "pygments_lexer": "ipython3",
   "version": "3.10.13"
  }
 },
 "nbformat": 4,
 "nbformat_minor": 2
}
