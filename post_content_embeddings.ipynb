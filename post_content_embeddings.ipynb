{
 "cells": [
  {
   "cell_type": "code",
   "execution_count": 1,
   "metadata": {},
   "outputs": [
    {
     "name": "stderr",
     "output_type": "stream",
     "text": [
      "/tmp/ipykernel_1564/4229720809.py:1: DeprecationWarning: \n",
      "Pyarrow will become a required dependency of pandas in the next major release of pandas (pandas 3.0),\n",
      "(to allow more performant data types, such as the Arrow string type, and better interoperability with other libraries)\n",
      "but was not found to be installed on your system.\n",
      "If this would cause problems for you,\n",
      "please provide us feedback at https://github.com/pandas-dev/pandas/issues/54466\n",
      "        \n",
      "  import pandas as pd\n"
     ]
    },
    {
     "name": "stdout",
     "output_type": "stream",
     "text": [
      "Requirement already satisfied: gensim in /usr/local/python/3.10.13/lib/python3.10/site-packages (4.3.2)\n",
      "Requirement already satisfied: numpy>=1.18.5 in /home/codespace/.local/lib/python3.10/site-packages (from gensim) (1.26.4)\n",
      "Requirement already satisfied: scipy>=1.7.0 in /home/codespace/.local/lib/python3.10/site-packages (from gensim) (1.12.0)\n",
      "Requirement already satisfied: smart-open>=1.8.1 in /usr/local/python/3.10.13/lib/python3.10/site-packages (from gensim) (7.0.3)\n",
      "Requirement already satisfied: wrapt in /usr/local/python/3.10.13/lib/python3.10/site-packages (from smart-open>=1.8.1->gensim) (1.16.0)\n",
      "Note: you may need to restart the kernel to use updated packages.\n"
     ]
    }
   ],
   "source": [
    "import pandas as pd\n",
    "import numpy as np\n",
    "import networkx as nx\n",
    "import random\n",
    "\n",
    "%pip install gensim\n",
    "import gensim.downloader\n",
    "from gensim.models import Word2Vec\n",
    "\n",
    "from sklearn.metrics.pairwise import cosine_similarity"
   ]
  },
  {
   "cell_type": "code",
   "execution_count": 2,
   "metadata": {},
   "outputs": [],
   "source": [
    "chosen_event = 'wildfire'"
   ]
  },
  {
   "cell_type": "code",
   "execution_count": 3,
   "metadata": {},
   "outputs": [],
   "source": [
    "path = f'subgraphs_data/{chosen_event}_subgraph.graphml'\n",
    "g = nx.read_graphml(path)"
   ]
  },
  {
   "cell_type": "markdown",
   "metadata": {},
   "source": [
    "The first step is to try to obtain a dictionnary containing the users id and all of their posts in the network as a dictionnary"
   ]
  },
  {
   "cell_type": "code",
   "execution_count": 149,
   "metadata": {},
   "outputs": [],
   "source": [
    "# let us first get access to the users of the chosen event\n",
    "users = []\n",
    "for node, data in g.nodes(data=True):\n",
    "    for key, value in data.items():\n",
    "        if key == 'labels':\n",
    "            if value == ':User':\n",
    "                users.append({node : data})\n",
    "\n",
    "# now, let us get the tweets related to the chosen event\n",
    "tweets = []\n",
    "for node, data in g.nodes(data=True):\n",
    "    for key, value in data.items():\n",
    "        if key == 'labels':\n",
    "            if value == ':Tweet':\n",
    "                tweets.append({node : data})"
   ]
  },
  {
   "cell_type": "code",
   "execution_count": 150,
   "metadata": {},
   "outputs": [],
   "source": [
    "# select first a sample of 100 users\n",
    "random.seed(55)\n",
    "users_sample = random.sample(users, 100)"
   ]
  },
  {
   "cell_type": "code",
   "execution_count": 151,
   "metadata": {},
   "outputs": [],
   "source": [
    "# build a list containing dictionnaries with the user_node_id and every tweet made by this user\n",
    "users_posts = []\n",
    "\n",
    "for u in users_sample:\n",
    "    user_node_id = [key for key, _ in u.items()][0]\n",
    "    tweets_by_user = []\n",
    "    \n",
    "    for t in tweets:\n",
    "        tweet_node_id = [key for key, _ in t.items()][0]\n",
    "        text_tweet = [value for _, value in t.items()][0]['text']\n",
    "\n",
    "        if tweet_node_id in g[user_node_id]:\n",
    "            tweets_by_user.append(text_tweet)\n",
    "\n",
    "    users_posts.append({'user':user_node_id,\n",
    "                        'tweets':tweets_by_user})"
   ]
  },
  {
   "cell_type": "code",
   "execution_count": 152,
   "metadata": {},
   "outputs": [],
   "source": [
    "# we then import a pretrained Word2Vec model, fitted for twitter data \n",
    "w2v = gensim.downloader.load('glove-twitter-25')"
   ]
  },
  {
   "cell_type": "code",
   "execution_count": 153,
   "metadata": {},
   "outputs": [],
   "source": [
    "# we define a function that allows us to tokenize a tweet/sentance, and we take the average of each embedding\n",
    "def sentence_embedding(sentence):\n",
    "    tokens = sentence.split()\n",
    "    embeddings = [w2v[token] for token in tokens if token in w2v]\n",
    "    #embeddings = [emb for emb in embeddings if emb is not None]\n",
    "    \n",
    "    if embeddings:\n",
    "        avg_embedding = np.mean(embeddings, axis=0)\n",
    "    else:\n",
    "        avg_embedding = np.zeros(w2v.vector_size)\n",
    "\n",
    "    #avg_embedding = np.mean(embeddings, axis=0)\n",
    "    return avg_embedding"
   ]
  },
  {
   "cell_type": "code",
   "execution_count": 154,
   "metadata": {},
   "outputs": [],
   "source": [
    "# we then add the embedded tweets to the users_posts list, by adding a key to each dictionnary in the list\n",
    "for i in users_posts:\n",
    "    tweets = i['tweets']\n",
    "    embedded_tweets = []\n",
    "    for j in i['tweets']:\n",
    "        emb_tweet = sentence_embedding(j)\n",
    "        embedded_tweets.append(emb_tweet)\n",
    "    avg_emb_tweet = np.mean(embedded_tweets, axis=0)\n",
    "    i['embedded_tweets'] = avg_emb_tweet"
   ]
  },
  {
   "cell_type": "code",
   "execution_count": 155,
   "metadata": {},
   "outputs": [],
   "source": [
    "# now, let us compute the user-user similarities with a cosine similarity measure\n",
    "cos_sim = [[0 for _ in range(100)] for _ in range(100)]\n",
    "\n",
    "for i in range(len(users_posts)):\n",
    "    for j in range(len(users_posts)):\n",
    "        if i == j:\n",
    "            cos_sim[i][j] = 1\n",
    "        else:\n",
    "            emb_i = users_posts[i]['embedded_tweets'].reshape(1, -1)\n",
    "            emb_j = users_posts[j]['embedded_tweets'].reshape(1, -1)\n",
    "            cos_sim[i][j] = cosine_similarity(emb_i, emb_j)[0][0]"
   ]
  },
  {
   "cell_type": "code",
   "execution_count": 156,
   "metadata": {},
   "outputs": [],
   "source": [
    "arr_cos_sim = np.array(cos_sim)\n",
    "np.fill_diagonal(arr_cos_sim, -np.inf)\n",
    "\n",
    "v = []\n",
    "\n",
    "for _ in range(10):\n",
    "    max_index = np.argmax(arr_cos_sim)\n",
    "    max_row_index, max_col_index = np.unravel_index(max_index, np.array(arr_cos_sim).shape)\n",
    "    arr_cos_sim[max_row_index][max_col_index] = -np.inf\n",
    "    arr_cos_sim[max_col_index][max_row_index] = -np.inf\n",
    "    v.append((max_row_index, max_col_index))"
   ]
  },
  {
   "cell_type": "code",
   "execution_count": 157,
   "metadata": {},
   "outputs": [
    {
     "data": {
      "text/plain": [
       "[(57, 71),\n",
       " (20, 75),\n",
       " (92, 99),\n",
       " (71, 92),\n",
       " (22, 77),\n",
       " (33, 57),\n",
       " (31, 92),\n",
       " (20, 38),\n",
       " (71, 99),\n",
       " (41, 50)]"
      ]
     },
     "execution_count": 157,
     "metadata": {},
     "output_type": "execute_result"
    }
   ],
   "source": [
    "v"
   ]
  },
  {
   "cell_type": "code",
   "execution_count": 158,
   "metadata": {},
   "outputs": [
    {
     "name": "stdout",
     "output_type": "stream",
     "text": [
      "Cosine User Similarity between users 57 and 71 : 0.9958186149597168\n",
      "['Primary goal is fighting west fire, figuring out the size \"a little byproduct.\" #ymm #ymmfire', \"Waterways is facing a mandatory evacuation order. That's less than a kilometre from @fortmactoday office. We are leaving now. #ymm #ymmfire\", 'All I can hear right now in downtown are sirens and helicopters. #ymm #ymmfire', '.@NovaCanuck joining us soon. #ymm #ymmfire https://t.co/u8mr0D0JNl', 'Fire north of river is 15 kilometres from Thickwood. #ymm #ymmfire', 'Darby Allen now. Says he can only guess size of fire in the morning when pilots resume flights. #ymm #ymmfire', '.@CullenBird is in the car with me and will keep Twitter updated. #ymm #ymmfire', 'Next media update at 4 p.m. #ymm #ymmfire', '\"Our number one priority is the protection of Fort McMurray,\" says Schmitte. #ymm #ymmfire', 'Mayor Blake points out that today is World Asthma Day. #ymm #ymmfire', 'LIVE on #Periscope https://t.co/TF32pSsKwB', 'Allen troubled some people have been found living in their cars instead of going to MacIsland. \"We will look after you.\" #ymm #ymmfire', 'View from @FortMacToday parking lot. #ymm #ymmfire https://t.co/KDlOiS9gid', 'Temperature predicted to reach high of 30C, low humidity. #ymm #ymmfire', 'We will be able to update the website from our laptops at home. #ymm #ymmfire', 'We are working on our own evacuation plan if it comes to it. Most of us live in Timberlea. Our laptops can update the website. #ymm #ymmfire', 'Allen says to continue living your lives, but be mindful the fire situation can change in short notice. #ymm #ymmfire', 'Not official order, but @MayorMelissa warning Thickwood, Abasand and Beacon Hill areas near fire to be ready to go. #ymm #ymmfire', 'A five hectare spot fire crossed Athabasca River. As he speask, 10 firefighters en route. #ymm #ymmfire', \"Also if anyone's wondering, council meetings have not officially been cancelled. Good chance that will change, though. #ymm #ymmfire\", 'Highway 63 at the Hospital Street entrance is completely gridlocked with people going home. #ymm #ymmfire', \"North fire at Taiga Nova is largely out. Some people looking for hot spots, but Allen says he's not worried. #ymm #ymmfire\", 'Wood Buffalo transit has stopped all bus services to the areas being evacuated. #ymm #ymmfire', \"Don't get up in the morning and think it's fine, we'll tell you when it's fine, says Allen. #ymm #ymmfire\", '.@NovaCanuck coming after grabbing photos. @oliviacondon going home to pack. Just me and @CullenBird in office. #ymm #ymmfire', 'Fort McMurray Golf Club already been evacuated. #ymm #ymmfire', 'RMWB: Area bordering Real Martin Drive east to Thicket Drive and south of Thickwood on VOLUNTARY evacuation notice. #ymm #ymmfire', 'Fire has entered city limits. Houses in Abasand, trailers in Centennial on fire. Mandatory evacuation for Thickwood. #ymm #ymmfire', \"If anyone is wondering, I'm fine. But two @fortmactoday staff members have already gone home to pack. #ymm #ymmfire\", 'Still nothing about investigation of the cause. \"It\\'s going to be challenging,\" says Allen. Priority is on fighting fire now. #ymm #ymmfire', \"One of us has to give @cullenbird a ride home. He will live tweet updates while we're relocating. #ymm #ymmfire\", \"Weather today is nice in town, but Allen warns fire will wake up. Don't be lulled into a false sense of security. #ymm #ymmfire\", 'MacDonald Island Pakr is FULL. Head to Noralta Lodge. Gregoire residents shou;ld head to Anzac Rec Centre. #ymm #ymmfire', 'This also applies to Abasand and Beacon Hill. Residents should be prepared for a mandatory evacuation within 30 MINUTES. #ymm #ymmfire', 'Bernie Schmitte now. Instant management team managing fire. 80 firefighters at the fire, with 70 on the east edge, closest to #ymm. #ymmfire', 'No one has been reportedly injured from the fire. #ymm #ymmfire', 'Latest view of the fire from @FortMacToday parking lot. #ymm #ymmfire https://t.co/GMlse3tZnm', 'RMWB telling me aircraft having trouble dumping fire retardant because of proximity, but water flights still happening. #ymm #ymmfire', 'Environment Canada says Fort McMurray will reach a high of 30 C on Tuesday. #ymm #ymmfire', 'Me, @cullenbird and @oliviacondon are heading to the Anzac Rec Centre. #ymm #ymmfire', 'Eight helicopters fighting fire. Heavy helicopter here by 3 pm. That bucket holds 500 gallons. #ymm #ymmfire', \"It's a good week to own a car wash in Fort McMurray. #ymm #ymmfire\", 'LIVE on #Periscope https://t.co/BVeq896XMr', 'Overall, fire could be worse today. Hangingstone River a natural barrier btwn fire and #ymm. Changing conditions a factor. #ymmfire']\n",
      "['Worst #AirQuality I?ve ever experienced.2.5 weeks on the road in the US talking and learning about #HealthAndWellbeing and return to campfire air from #ABFire. Stay inside, run your #Purifiers and/or go to a place with filtered air. Stop #running outside, please! #ClimateChange', \"#AQHI in #YEG #Edmonton is 10+. That. is. bad! Tomorrow it's going down to 5 and the forecast looks promising for this area but continues to be horrible for the North. #ABFire #ThisCantBeTheNewNormal #ClimateChange\"]\n",
      "\n",
      "Cosine User Similarity between users 20 and 75 : 0.9952951669692993\n",
      "['One member from the Town of Innisfail along with three others from Red Deer County have been deployed to help fight the Chuckegg wildfire. The crew will attend the fire for 7 days, but the Town is prepared to provide additional support if requested.\\\\n#InnisfailAB #abfire https://t.co/6O9b0KBs33']\n",
      "['Our Emergency Disaster Services(EDS) team continues to provide support to the evacuees of the Chuckegg Wildfire near High Level. We have to give a shout out to the many other responding agencies we work with, like the Red Cross. \\\\n#CanadianRedCross #GivingHopeToday #HighLevelFire https://t.co/p9y4onroW8']\n",
      "\n",
      "Cosine User Similarity between users 92 and 99 : 0.9952423572540283\n",
      "['@EdLatimore Yeah man! It?s wild\\\\n\\\\nI worked a couple days in -40 in northern Alberta and that?s what I found\\\\n\\\\nWhen the air is still, it feels like nothing\\\\n\\\\nAs soon as you start to walk, your face is on fire']\n",
      "['Spring is here summer is going to be hot so sorry about that fire in High level hope the best to everyone in the area God Bless the people and our Mother Nature']\n",
      "\n",
      "Cosine User Similarity between users 71 and 92 : 0.9941455721855164\n",
      "['Worst #AirQuality I?ve ever experienced.2.5 weeks on the road in the US talking and learning about #HealthAndWellbeing and return to campfire air from #ABFire. Stay inside, run your #Purifiers and/or go to a place with filtered air. Stop #running outside, please! #ClimateChange', \"#AQHI in #YEG #Edmonton is 10+. That. is. bad! Tomorrow it's going down to 5 and the forecast looks promising for this area but continues to be horrible for the North. #ABFire #ThisCantBeTheNewNormal #ClimateChange\"]\n",
      "['@EdLatimore Yeah man! It?s wild\\\\n\\\\nI worked a couple days in -40 in northern Alberta and that?s what I found\\\\n\\\\nWhen the air is still, it feels like nothing\\\\n\\\\nAs soon as you start to walk, your face is on fire']\n",
      "\n",
      "Cosine User Similarity between users 22 and 77 : 0.9938548803329468\n",
      "[\"125,000 people are being told to leave, those at work for the day being forced to abandon pets and all belongings. I'm in shock #ymmfire\"]\n",
      "['Our thoughts are with all hard working firefighters and affected community members in AB.\\\\n\\\\nPlease pass along the Last-Minute Wildfire Checklist to friends and &amp; family who need it.\\\\n\\\\nhttps://t.co/7D6gR8laYN\\\\n\\\\n#Alberta #wildfire #abfire #FireSmart #IAMFireSmart https://t.co/PdquXZ16Rn']\n",
      "\n",
      "Cosine User Similarity between users 33 and 57 : 0.993482768535614\n",
      "['@lookner Steve you need to put this on Agenda Free TV. This is a huge wildfire burning up here in Canada in Alberta. There are evacuation orders in effect. This fire is dangerous! https://t.co/qHcqi4rXW0']\n",
      "['Primary goal is fighting west fire, figuring out the size \"a little byproduct.\" #ymm #ymmfire', \"Waterways is facing a mandatory evacuation order. That's less than a kilometre from @fortmactoday office. We are leaving now. #ymm #ymmfire\", 'All I can hear right now in downtown are sirens and helicopters. #ymm #ymmfire', '.@NovaCanuck joining us soon. #ymm #ymmfire https://t.co/u8mr0D0JNl', 'Fire north of river is 15 kilometres from Thickwood. #ymm #ymmfire', 'Darby Allen now. Says he can only guess size of fire in the morning when pilots resume flights. #ymm #ymmfire', '.@CullenBird is in the car with me and will keep Twitter updated. #ymm #ymmfire', 'Next media update at 4 p.m. #ymm #ymmfire', '\"Our number one priority is the protection of Fort McMurray,\" says Schmitte. #ymm #ymmfire', 'Mayor Blake points out that today is World Asthma Day. #ymm #ymmfire', 'LIVE on #Periscope https://t.co/TF32pSsKwB', 'Allen troubled some people have been found living in their cars instead of going to MacIsland. \"We will look after you.\" #ymm #ymmfire', 'View from @FortMacToday parking lot. #ymm #ymmfire https://t.co/KDlOiS9gid', 'Temperature predicted to reach high of 30C, low humidity. #ymm #ymmfire', 'We will be able to update the website from our laptops at home. #ymm #ymmfire', 'We are working on our own evacuation plan if it comes to it. Most of us live in Timberlea. Our laptops can update the website. #ymm #ymmfire', 'Allen says to continue living your lives, but be mindful the fire situation can change in short notice. #ymm #ymmfire', 'Not official order, but @MayorMelissa warning Thickwood, Abasand and Beacon Hill areas near fire to be ready to go. #ymm #ymmfire', 'A five hectare spot fire crossed Athabasca River. As he speask, 10 firefighters en route. #ymm #ymmfire', \"Also if anyone's wondering, council meetings have not officially been cancelled. Good chance that will change, though. #ymm #ymmfire\", 'Highway 63 at the Hospital Street entrance is completely gridlocked with people going home. #ymm #ymmfire', \"North fire at Taiga Nova is largely out. Some people looking for hot spots, but Allen says he's not worried. #ymm #ymmfire\", 'Wood Buffalo transit has stopped all bus services to the areas being evacuated. #ymm #ymmfire', \"Don't get up in the morning and think it's fine, we'll tell you when it's fine, says Allen. #ymm #ymmfire\", '.@NovaCanuck coming after grabbing photos. @oliviacondon going home to pack. Just me and @CullenBird in office. #ymm #ymmfire', 'Fort McMurray Golf Club already been evacuated. #ymm #ymmfire', 'RMWB: Area bordering Real Martin Drive east to Thicket Drive and south of Thickwood on VOLUNTARY evacuation notice. #ymm #ymmfire', 'Fire has entered city limits. Houses in Abasand, trailers in Centennial on fire. Mandatory evacuation for Thickwood. #ymm #ymmfire', \"If anyone is wondering, I'm fine. But two @fortmactoday staff members have already gone home to pack. #ymm #ymmfire\", 'Still nothing about investigation of the cause. \"It\\'s going to be challenging,\" says Allen. Priority is on fighting fire now. #ymm #ymmfire', \"One of us has to give @cullenbird a ride home. He will live tweet updates while we're relocating. #ymm #ymmfire\", \"Weather today is nice in town, but Allen warns fire will wake up. Don't be lulled into a false sense of security. #ymm #ymmfire\", 'MacDonald Island Pakr is FULL. Head to Noralta Lodge. Gregoire residents shou;ld head to Anzac Rec Centre. #ymm #ymmfire', 'This also applies to Abasand and Beacon Hill. Residents should be prepared for a mandatory evacuation within 30 MINUTES. #ymm #ymmfire', 'Bernie Schmitte now. Instant management team managing fire. 80 firefighters at the fire, with 70 on the east edge, closest to #ymm. #ymmfire', 'No one has been reportedly injured from the fire. #ymm #ymmfire', 'Latest view of the fire from @FortMacToday parking lot. #ymm #ymmfire https://t.co/GMlse3tZnm', 'RMWB telling me aircraft having trouble dumping fire retardant because of proximity, but water flights still happening. #ymm #ymmfire', 'Environment Canada says Fort McMurray will reach a high of 30 C on Tuesday. #ymm #ymmfire', 'Me, @cullenbird and @oliviacondon are heading to the Anzac Rec Centre. #ymm #ymmfire', 'Eight helicopters fighting fire. Heavy helicopter here by 3 pm. That bucket holds 500 gallons. #ymm #ymmfire', \"It's a good week to own a car wash in Fort McMurray. #ymm #ymmfire\", 'LIVE on #Periscope https://t.co/BVeq896XMr', 'Overall, fire could be worse today. Hangingstone River a natural barrier btwn fire and #ymm. Changing conditions a factor. #ymmfire']\n",
      "\n",
      "Cosine User Similarity between users 31 and 92 : 0.9931305050849915\n",
      "[\"RT @ZachBlanchard: Here's what we know so far about the fire in New Hampshire that took the life of a little boy. Fire crews said they made?\"]\n",
      "['@EdLatimore Yeah man! It?s wild\\\\n\\\\nI worked a couple days in -40 in northern Alberta and that?s what I found\\\\n\\\\nWhen the air is still, it feels like nothing\\\\n\\\\nAs soon as you start to walk, your face is on fire']\n",
      "\n",
      "Cosine User Similarity between users 20 and 38 : 0.9930293560028076\n",
      "['One member from the Town of Innisfail along with three others from Red Deer County have been deployed to help fight the Chuckegg wildfire. The crew will attend the fire for 7 days, but the Town is prepared to provide additional support if requested.\\\\n#InnisfailAB #abfire https://t.co/6O9b0KBs33']\n",
      "['RT @FlyYMM: Passengers who have arrived from other destinations at the Main Terminal will be shuttled to the Nova Hotel. #YMM #YMMfire']\n",
      "\n",
      "Cosine User Similarity between users 71 and 99 : 0.9929850697517395\n",
      "['Worst #AirQuality I?ve ever experienced.2.5 weeks on the road in the US talking and learning about #HealthAndWellbeing and return to campfire air from #ABFire. Stay inside, run your #Purifiers and/or go to a place with filtered air. Stop #running outside, please! #ClimateChange', \"#AQHI in #YEG #Edmonton is 10+. That. is. bad! Tomorrow it's going down to 5 and the forecast looks promising for this area but continues to be horrible for the North. #ABFire #ThisCantBeTheNewNormal #ClimateChange\"]\n",
      "['Spring is here summer is going to be hot so sorry about that fire in High level hope the best to everyone in the area God Bless the people and our Mother Nature']\n",
      "\n",
      "Cosine User Similarity between users 41 and 50 : 0.9929187297821045\n",
      "['My thoughts &amp; prayers are with the flood victims in Florida &amp; the south &amp; Colorado victims of the horrible fires! Extremely sad situations!']\n",
      "['Our thoughts are with the residents of Fort McMurray!  #ymmfire']\n",
      "\n"
     ]
    }
   ],
   "source": [
    "# let us try to plot tweets that were considered similar together\n",
    "for i in range(len(v)):\n",
    "    first_tweet = users_posts[v[i][0]]['tweets']\n",
    "    sec_tweet = users_posts[v[i][1]]['tweets']\n",
    "    print(f'Cosine User Similarity between users {v[i][0]} and {v[i][1]} : {cos_sim[v[i][0]][v[i][1]]}')\n",
    "    print(first_tweet)\n",
    "    print(sec_tweet)\n",
    "    print()"
   ]
  },
  {
   "cell_type": "markdown",
   "metadata": {},
   "source": [
    "**Note that this interpretation is related to wildfire events only**\n",
    "\n",
    "Some results are quite interesting to look at here :\n",
    "\n",
    "- First, it is rather obvious that many users will have a high similarity based on their posts, as they all mention wildfire events, so they are likely to use an identical vocabulary.\n",
    "\n",
    "- Interesting results can be seen in the example above, as there are similar users for which we can observe some identical words in their post. It is the case for the last example, where we see that both users use the expression : My/our \"thoughts\"."
   ]
  },
  {
   "cell_type": "markdown",
   "metadata": {},
   "source": []
  }
 ],
 "metadata": {
  "kernelspec": {
   "display_name": "Python 3",
   "language": "python",
   "name": "python3"
  },
  "language_info": {
   "codemirror_mode": {
    "name": "ipython",
    "version": 3
   },
   "file_extension": ".py",
   "mimetype": "text/x-python",
   "name": "python",
   "nbconvert_exporter": "python",
   "pygments_lexer": "ipython3",
   "version": "3.10.13"
  }
 },
 "nbformat": 4,
 "nbformat_minor": 2
}
